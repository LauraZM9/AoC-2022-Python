{
 "cells": [
  {
   "cell_type": "code",
   "execution_count": 1,
   "metadata": {},
   "outputs": [],
   "source": [
    "def apply_move_multiple(board_dict, move):\n",
    "  move = [int(i) for i in move]\n",
    "  to_move = board_dict[move[1]][-move[0]:]\n",
    "  board_dict[move[1]] -= board_dict[move[1]][-move[0]:]\n",
    "  board_dict[move[2]] += to_move\n",
    "  return board_dict"
   ]
  },
  {
   "cell_type": "code",
   "execution_count": 3,
   "metadata": {},
   "outputs": [],
   "source": [
    "board_dict = {\n",
    "    1: ['[Z]', '[N]'],\n",
    "    2: ['[M]', '[C]', '[D]'],\n",
    "    3: ['[P]']\n",
    "  }\n",
    "move = [1, 2, 3]"
   ]
  },
  {
   "cell_type": "code",
   "execution_count": 9,
   "metadata": {},
   "outputs": [],
   "source": [
    "for x in board_dict[move[1]][-move[0]:]:\n",
    "  board_dict[move[1]].remove(x)"
   ]
  },
  {
   "cell_type": "code",
   "execution_count": 10,
   "metadata": {},
   "outputs": [
    {
     "data": {
      "text/plain": [
       "{1: ['[Z]', '[N]'], 2: ['[M]', '[C]'], 3: ['[P]']}"
      ]
     },
     "execution_count": 10,
     "metadata": {},
     "output_type": "execute_result"
    }
   ],
   "source": [
    "board_dict"
   ]
  },
  {
   "cell_type": "code",
   "execution_count": null,
   "metadata": {},
   "outputs": [],
   "source": []
  }
 ],
 "metadata": {
  "kernelspec": {
   "display_name": "Python 3.9.6 ('aoc-env': venv)",
   "language": "python",
   "name": "python3"
  },
  "language_info": {
   "codemirror_mode": {
    "name": "ipython",
    "version": 3
   },
   "file_extension": ".py",
   "mimetype": "text/x-python",
   "name": "python",
   "nbconvert_exporter": "python",
   "pygments_lexer": "ipython3",
   "version": "3.9.6"
  },
  "orig_nbformat": 4,
  "vscode": {
   "interpreter": {
    "hash": "e1b6ce5dea9129296f0d582ac49b5590e8ba486d80cb427afae277292ff229db"
   }
  }
 },
 "nbformat": 4,
 "nbformat_minor": 2
}
